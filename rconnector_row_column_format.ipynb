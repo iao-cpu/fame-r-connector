{
 "cells": [
  {
   "cell_type": "code",
   "execution_count": 1,
   "id": "961d7156-9b7a-497a-abcb-e53315dbb10a",
   "metadata": {},
   "outputs": [
    {
     "name": "stdout",
     "output_type": "stream",
     "text": [
      "   FIS.OPEN FIS.CLOSE\n",
      "1     62.33     62.43\n",
      "2     62.86     67.59\n",
      "3     67.48     68.06\n",
      "4     67.94     62.49\n",
      "5     62.70     62.70\n",
      "6     62.75     61.80\n",
      "7     62.15     65.43\n",
      "8     65.50     69.06\n",
      "9     67.73     67.08\n",
      "10    67.75     72.92\n",
      "11    72.28     63.67\n",
      "12    63.97     60.60\n"
     ]
    }
   ],
   "source": [
    "# This program connects fame database and retrieves data in data frame.\n",
    "# Prints the program in row column format.\n",
    "\n",
    "library(FameRconnector)\n",
    "\n",
    "data <- FAMEData(\"*$get_list{fis.open, fis.close}\", \"2015\", \"2015\", 10, \"MONTHLY\", \"down\", \"heading\", \"normal\")\n",
    "print(data)\n"
   ]
  },
  {
   "cell_type": "code",
   "execution_count": null,
   "id": "f27109ae-3db9-41dd-83b5-614eadd7e9d3",
   "metadata": {},
   "outputs": [],
   "source": []
  }
 ],
 "metadata": {
  "kernelspec": {
   "display_name": "R",
   "language": "R",
   "name": "ir"
  },
  "language_info": {
   "codemirror_mode": "r",
   "file_extension": ".r",
   "mimetype": "text/x-r-source",
   "name": "R",
   "pygments_lexer": "r",
   "version": "4.1.3"
  }
 },
 "nbformat": 4,
 "nbformat_minor": 5
}
