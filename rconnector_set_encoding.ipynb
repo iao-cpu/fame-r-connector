{
 "cells": [
  {
   "cell_type": "code",
   "execution_count": 4,
   "id": "19f95d43-6861-4c28-97dd-ca40306f29b3",
   "metadata": {},
   "outputs": [
    {
     "name": "stderr",
     "output_type": "stream",
     "text": [
      "Warning message in FAMEData(\"chr(226) + chr(130) + chr(172)\", \"0\", \"0\", 0, \"BUSINESS\", :\n",
      "\"failed to set locale utf-8\"\n"
     ]
    },
    {
     "name": "stdout",
     "output_type": "stream",
     "text": [
      "  chr(226) + chr(130) + chr(172)\n",
      "1                              ¬\n"
     ]
    },
    {
     "name": "stderr",
     "output_type": "stream",
     "text": [
      "Warning message in FAMEData(\"chr(128)\", \"2000\", \"2020\", 0, \"BUSINESS\", \"down\", \"Heading\", :\n",
      "\"failed to set locale English_United States.1252\"\n"
     ]
    },
    {
     "name": "stdout",
     "output_type": "stream",
     "text": [
      "  chr(128)\n",
      "1         \n"
     ]
    }
   ],
   "source": [
    "################################################################################\n",
    "# This program demonstrates how to set encoding\n",
    "################################################################################\n",
    "\n",
    "library(FameRconnector)\n",
    "\n",
    "status <- FAMESetProperty(\"encoding\", \"utf-8\")\n",
    "data <- FAMEData(\"chr(226) + chr(130) + chr(172)\", \"0\", \"0\", 0, \"BUSINESS\", \"down\", \"Heading\", \"normal\")\n",
    "print(data)\n",
    "\n",
    "status <- FAMESetProperty(\"encoding\", \"English_United States.1252\")\n",
    "data <- FAMEData(\"chr(128)\", \"2000\", \"2020\", 0, \"BUSINESS\", \"down\", \"Heading\", \"normal\")\n",
    "print(data)"
   ]
  },
  {
   "cell_type": "code",
   "execution_count": null,
   "id": "7781aab1-ff72-45e3-b302-9d7598b1b5b7",
   "metadata": {},
   "outputs": [],
   "source": []
  },
  {
   "cell_type": "code",
   "execution_count": null,
   "id": "47eee445-c763-418b-b8e2-e209bb6b5e06",
   "metadata": {},
   "outputs": [],
   "source": []
  }
 ],
 "metadata": {
  "kernelspec": {
   "display_name": "R",
   "language": "R",
   "name": "ir"
  },
  "language_info": {
   "codemirror_mode": "r",
   "file_extension": ".r",
   "mimetype": "text/x-r-source",
   "name": "R",
   "pygments_lexer": "r",
   "version": "4.1.3"
  }
 },
 "nbformat": 4,
 "nbformat_minor": 5
}
