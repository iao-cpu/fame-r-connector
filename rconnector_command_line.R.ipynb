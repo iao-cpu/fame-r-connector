{
 "cells": [
  {
   "cell_type": "code",
   "execution_count": null,
   "id": "a9f42247-2a5c-49ab-8303-919a781c39ea",
   "metadata": {},
   "outputs": [],
   "source": [
    "# This program connects fame database and retrieves data in data frame.\n",
    "# Prints the program in row column format.\n",
    "# This command should run from command line using following command\n",
    "# Rscript.exe r_connector_command_line.R\n",
    "\n",
    "library(FameRconnector)\n",
    "\n",
    "data <- FAMEData(\"*$get_list{famedate, fis.close}\", \"2015\", \"2015\", 10, \"MONTHLY\", \"down\", \"heading\", \"normal\")\n",
    "print(data)\n",
    "rowcolumnformat(data)\n",
    "\n",
    "\n"
   ]
  },
  {
   "cell_type": "code",
   "execution_count": null,
   "id": "0c5de35b-1de2-4a35-87ba-901638117379",
   "metadata": {},
   "outputs": [],
   "source": []
  },
  {
   "cell_type": "code",
   "execution_count": null,
   "id": "ad658695-d418-4546-a579-c687a4761659",
   "metadata": {},
   "outputs": [],
   "source": []
  },
  {
   "cell_type": "code",
   "execution_count": null,
   "id": "7a395334-16ce-4501-8ff1-7ed1a45be481",
   "metadata": {},
   "outputs": [],
   "source": []
  },
  {
   "cell_type": "code",
   "execution_count": null,
   "id": "4800f78d-851c-4901-ba03-68ec3d7f440f",
   "metadata": {},
   "outputs": [],
   "source": []
  }
 ],
 "metadata": {
  "kernelspec": {
   "display_name": "R",
   "language": "R",
   "name": "ir"
  },
  "language_info": {
   "codemirror_mode": "r",
   "file_extension": ".r",
   "mimetype": "text/x-r-source",
   "name": "R",
   "pygments_lexer": "r",
   "version": "4.1.3"
  }
 },
 "nbformat": 4,
 "nbformat_minor": 5
}
