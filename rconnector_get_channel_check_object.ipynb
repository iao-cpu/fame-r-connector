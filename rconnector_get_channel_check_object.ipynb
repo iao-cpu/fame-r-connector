{
 "cells": [
  {
   "cell_type": "code",
   "execution_count": 1,
   "id": "8c1aec60-116a-42b2-9011-2663dff97479",
   "metadata": {},
   "outputs": [
    {
     "name": "stdout",
     "output_type": "stream",
     "text": [
      "  WCS_OK\n",
      "1     OK\n",
      "  CHANNEL NAME ACCESS TYPE\n",
      "1          SAM        READ\n",
      "2           TR        READ\n",
      "  CHANNEL NAME ACCESS TYPE\n",
      "1    SAMPLE_WR      UPDATE\n"
     ]
    },
    {
     "name": "stderr",
     "output_type": "stream",
     "text": [
      "object sample_precision_scalar does not exist\n",
      "\n"
     ]
    },
    {
     "name": "stdout",
     "output_type": "stream",
     "text": [
      "[1] TRUE\n"
     ]
    },
    {
     "name": "stderr",
     "output_type": "stream",
     "text": [
      "object sample_precision_scalar does exist\n",
      "\n"
     ]
    },
    {
     "data": {
      "text/html": [
       "TRUE"
      ],
      "text/latex": [
       "TRUE"
      ],
      "text/markdown": [
       "TRUE"
      ],
      "text/plain": [
       "[1] TRUE"
      ]
     },
     "metadata": {},
     "output_type": "display_data"
    }
   ],
   "source": [
    "# This program demonstrates how to see what channels are \n",
    "# availabe for read operations and what channels are \n",
    "# available for write operations. \n",
    "# It also shows how to check if given object exist on\n",
    "# given channel or not.\n",
    "\n",
    "library(FameRconnector)\n",
    "options(digits = 12)\n",
    "\n",
    "## create database\n",
    "data <-\n",
    "  FAMEData(\n",
    "    \"* open <access overwrite> samples_write_db.db as sample_wr --shared access\",\n",
    "    \"2015\",\n",
    "    \"2015\",\n",
    "    0,\n",
    "    \"monthly\",\n",
    "    \"down\",\n",
    "    \"heading\",\n",
    "    \"normal\"\n",
    "  )\n",
    "print(data)\n",
    "\n",
    "r_channles <- GetReadChannels()\n",
    "print(r_channles)\n",
    "\n",
    "w_channels <- GetWriteChannels()\n",
    "print(w_channels)\n",
    "\n",
    "## check if object exist\n",
    "ObjExist <- IsObjectExist(\"sample_wr\", \"sample_precision_scalar\")\n",
    "if (ObjExist) {\n",
    "  message(\"object sample_precision_scalar does exist\")\n",
    "} else {\n",
    "   message(\"object sample_precision_scalar does not exist\")\n",
    "}\n",
    "\n",
    "## create scalar\n",
    "data <-\n",
    "  createScalar(\"sample_wr\",\n",
    "               \"sample_precision_scalar\",\n",
    "               \"PRECISION\",\n",
    "               \"test desc of scalar for sample\")\n",
    "print(data)\n",
    "\n",
    "## check if object exist\n",
    "ObjExist <- IsObjectExist(\"sample_wr\", \"sample_precision_scalar\")\n",
    "if (ObjExist) {\n",
    "  message(\"object sample_precision_scalar does exist\")\n",
    "} else {\n",
    "  message(\"object sample_precision_scalar does not exist\")\n",
    "}\n",
    "\n",
    "## get database file handle\n",
    "dbfile <-\n",
    "  FAMEData(\"filespec(sample_wr)\",\n",
    "           \"*\",\n",
    "           \"*\",\n",
    "           0,\n",
    "           \"case\",\n",
    "           \"down\",\n",
    "           \"heading\",\n",
    "           \"normal\")\n",
    "dbfile <- dbfile$`filespec(sample_wr)`\n",
    "\n",
    "## close database\n",
    "data <-\n",
    "  FAMEData(\n",
    "    \"* close sample_wr --shared access\",\n",
    "    \"2015\",\n",
    "    \"2015\",\n",
    "    0,\n",
    "    \"monthly\",\n",
    "    \"down\",\n",
    "    \"heading\",\n",
    "    \"normal\"\n",
    "  )\n",
    "\n",
    "## remove database file\n",
    "file.remove(dbfile)"
   ]
  },
  {
   "cell_type": "code",
   "execution_count": null,
   "id": "b70520fb-e5ba-4460-bab2-60b52b31ad17",
   "metadata": {},
   "outputs": [],
   "source": []
  }
 ],
 "metadata": {
  "kernelspec": {
   "display_name": "R",
   "language": "R",
   "name": "ir"
  },
  "language_info": {
   "codemirror_mode": "r",
   "file_extension": ".r",
   "mimetype": "text/x-r-source",
   "name": "R",
   "pygments_lexer": "r",
   "version": "4.1.3"
  }
 },
 "nbformat": 4,
 "nbformat_minor": 5
}
