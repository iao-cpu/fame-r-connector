{
 "cells": [
  {
   "cell_type": "code",
   "execution_count": 4,
   "id": "3c94aae9-7706-4779-a9b1-6371ba69178e",
   "metadata": {},
   "outputs": [
    {
     "name": "stdout",
     "output_type": "stream",
     "text": [
      "  WCS_OK\n",
      "1     OK\n"
     ]
    }
   ],
   "source": [
    "# This program demonstrates how to create formula in fame database.\n",
    "# It also shows how to modify formula source of existing formula.\n",
    "\n",
    "library(FameRconnector)\n",
    "\n",
    "## create database\n",
    "data <-\n",
    "  FAMEData(\n",
    "    \"* open <access overwrite> samples_write_db.db as sample_wr --shared access\",\n",
    "    \"2015\",\n",
    "    \"2015\",\n",
    "    0,\n",
    "    \"monthly\",\n",
    "    \"down\",\n",
    "    \"heading\",\n",
    "    \"normal\"\n",
    "  )\n",
    "print(data)"
   ]
  },
  {
   "cell_type": "code",
   "execution_count": 5,
   "id": "bd2cc9d4-01cb-4045-9c8a-3cc7c6fa6d29",
   "metadata": {},
   "outputs": [
    {
     "name": "stdout",
     "output_type": "stream",
     "text": [
      "[1] TRUE\n"
     ]
    }
   ],
   "source": [
    "## create formula\n",
    "data <-\n",
    "  createFormula(\n",
    "    \"sample_wr\",\n",
    "    \"sample_fis_close_mean_formula\",\n",
    "    \"fis.close/2\",\n",
    "    \"test desc of case series for sample\"\n",
    "  )\n",
    "print(data)"
   ]
  },
  {
   "cell_type": "code",
   "execution_count": 6,
   "id": "59103652-533d-4115-8e4b-f730d8f0d380",
   "metadata": {},
   "outputs": [
    {
     "name": "stdout",
     "output_type": "stream",
     "text": [
      "  wildlist(sample_wr, \"sample_fis_close_mean_formula\")\n",
      "1                        SAMPLE_FIS_CLOSE_MEAN_FORMULA\n"
     ]
    }
   ],
   "source": [
    "## check if formula has got created\n",
    "data <-\n",
    "  FAMEData(\n",
    "    \"wildlist(sample_wr, \\\"sample_fis_close_mean_formula\\\")\",\n",
    "    \"1\",\n",
    "    \"\",\n",
    "    1,\n",
    "    \"CASE\",\n",
    "    \"down\",\n",
    "    \"heading\",\n",
    "    \"normal\"\n",
    "  )\n",
    "print(data)"
   ]
  },
  {
   "cell_type": "code",
   "execution_count": 7,
   "id": "5da60ed8-24f0-4f22-b844-f07dc01eb84a",
   "metadata": {},
   "outputs": [
    {
     "name": "stdout",
     "output_type": "stream",
     "text": [
      "  source(sample_fis_close_mean_formula)\n",
      "1                           FIS.CLOSE/2\n"
     ]
    }
   ],
   "source": [
    "## check formula source\n",
    "data <-\n",
    "  FAMEData(\n",
    "    \"source(sample_fis_close_mean_formula)\",\n",
    "    \"1\",\n",
    "    \"\",\n",
    "    1,\n",
    "    \"CASE\",\n",
    "    \"down\",\n",
    "    \"heading\",\n",
    "    \"normal\"\n",
    "  )\n",
    "print(data)"
   ]
  },
  {
   "cell_type": "code",
   "execution_count": 8,
   "id": "31c26375-a366-47c9-aded-d6e6002e4650",
   "metadata": {},
   "outputs": [
    {
     "name": "stdout",
     "output_type": "stream",
     "text": [
      "   sample_fis_close_mean_formula\n",
      "1                         14.280\n",
      "2                         15.865\n",
      "3                         16.560\n",
      "4                         16.835\n",
      "5                         16.390\n",
      "6                         17.040\n",
      "7                         15.720\n",
      "8                         15.750\n",
      "9                         15.610\n",
      "10                        16.435\n",
      "11                        18.050\n",
      "12                        17.405\n"
     ]
    }
   ],
   "source": [
    "## get data from formula\n",
    "data <-\n",
    "  FAMEData(\n",
    "    \"sample_fis_close_mean_formula\",\n",
    "    \"JAN2012\",\n",
    "    \"DEC2012\",\n",
    "    5,\n",
    "    \"MONTHLY\",\n",
    "    \"down\",\n",
    "    \"heading\",\n",
    "    \"normal\"\n",
    "  )\n",
    "print(data)"
   ]
  },
  {
   "cell_type": "code",
   "execution_count": null,
   "id": "ec20d81a-0107-4c38-b617-a653d328be3d",
   "metadata": {},
   "outputs": [],
   "source": [
    "## change formula source\n",
    "dat <- c(\"fis.close/3\")\n",
    "data <-\n",
    "  updateFormula(\"sample_wr\", \"sample_fis_close_mean_formula\", dat)\n",
    "print(data)\n",
    "\n",
    "## check source\n",
    "data <-\n",
    "  FAMEData(\n",
    "    \"source(sample_fis_close_mean_formula)\",\n",
    "    \"1\",\n",
    "    \"\",\n",
    "    1,\n",
    "    \"CASE\",\n",
    "    \"down\",\n",
    "    \"heading\",\n",
    "    \"normal\"\n",
    "  )\n",
    "print(data)"
   ]
  },
  {
   "cell_type": "code",
   "execution_count": null,
   "id": "5692895e-010a-421f-9e5c-f0f3d4969e23",
   "metadata": {},
   "outputs": [],
   "source": [
    "## get data from formula\n",
    "data <-\n",
    "  FAMEData(\n",
    "    \"sample_fis_close_mean_formula\",\n",
    "    \"JAN2012\",\n",
    "    \"DEC2012\",\n",
    "    5,\n",
    "    \"MONTHLY\",\n",
    "    \"down\",\n",
    "    \"heading\",\n",
    "    \"normal\"\n",
    "  )\n",
    "print(data)"
   ]
  },
  {
   "cell_type": "code",
   "execution_count": 9,
   "id": "77246367-d964-4383-9660-5f36bc1a0857",
   "metadata": {},
   "outputs": [],
   "source": [
    "## get database file handle\n",
    "dbfile <-\n",
    "  FAMEData(\"filespec(sample_wr)\",\n",
    "           \"*\",\n",
    "           \"*\",\n",
    "           0,\n",
    "           \"case\",\n",
    "           \"down\",\n",
    "           \"heading\",\n",
    "           \"normal\")\n",
    "dbfile <- dbfile$`filespec(sample_wr)`"
   ]
  },
  {
   "cell_type": "code",
   "execution_count": 11,
   "id": "3d186c0d-71a7-4c73-888d-8e503e129c74",
   "metadata": {},
   "outputs": [
    {
     "name": "stderr",
     "output_type": "stream",
     "text": [
      "Error in doTryCatch(return(expr), name, parentenv, handler): SAMPLE_WR is not an open channel\n",
      "\n",
      "\n",
      "\n"
     ]
    }
   ],
   "source": [
    "## close database\n",
    "closedb <-\n",
    "  FAMEData(\"* close sample_wr --shared access\",\n",
    "           \"*\",\n",
    "           \"*\",\n",
    "           0,\n",
    "           \"case\",\n",
    "           \"down\",\n",
    "           \"heading\",\n",
    "           \"normal\")\n",
    "\n",
    "## remove database file\n",
    "file.remove(dbfile)"
   ]
  },
  {
   "cell_type": "code",
   "execution_count": null,
   "id": "ea749433-e8d9-417c-b45a-cc51259c9a81",
   "metadata": {},
   "outputs": [],
   "source": []
  },
  {
   "cell_type": "code",
   "execution_count": null,
   "id": "ea891809-16b2-4796-a928-a1e2464f4c2a",
   "metadata": {},
   "outputs": [],
   "source": []
  }
 ],
 "metadata": {
  "kernelspec": {
   "display_name": "R",
   "language": "R",
   "name": "ir"
  },
  "language_info": {
   "codemirror_mode": "r",
   "file_extension": ".r",
   "mimetype": "text/x-r-source",
   "name": "R",
   "pygments_lexer": "r",
   "version": "4.1.3"
  }
 },
 "nbformat": 4,
 "nbformat_minor": 5
}
