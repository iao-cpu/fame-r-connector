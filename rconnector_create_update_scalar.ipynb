{
 "cells": [
  {
   "cell_type": "code",
   "execution_count": 1,
   "id": "f9d4ea6b-4561-4eff-8f8a-4cd97c4a8fc1",
   "metadata": {},
   "outputs": [
    {
     "name": "stdout",
     "output_type": "stream",
     "text": [
      "  WCS_OK\n",
      "1     OK\n",
      "[1] TRUE\n",
      "  wildlist(sample_wr, \"sample_precision_scalar\")\n",
      "1                        SAMPLE_PRECISION_SCALAR\n",
      "  type(sample_precision_scalar)\n",
      "1                     PRECISION\n",
      "[1] TRUE\n",
      "  sample_precision_scalar\n",
      "1             123456.7891\n"
     ]
    },
    {
     "data": {
      "text/html": [
       "TRUE"
      ],
      "text/latex": [
       "TRUE"
      ],
      "text/markdown": [
       "TRUE"
      ],
      "text/plain": [
       "[1] TRUE"
      ]
     },
     "metadata": {},
     "output_type": "display_data"
    }
   ],
   "source": [
    "# This program demonstrates how to create scalar in fame database.\n",
    "# It also shows how to update existing scalar value.\n",
    "\n",
    "library(FameRconnector)\n",
    "options(digits = 12)\n",
    "\n",
    "## create database\n",
    "data <-\n",
    "  FAMEData(\n",
    "    \"* open <access overwrite> samples_write_db.db as sample_wr --shared access\",\n",
    "    \"2015\",\n",
    "    \"2015\",\n",
    "    0,\n",
    "    \"monthly\",\n",
    "    \"down\",\n",
    "    \"heading\",\n",
    "    \"normal\"\n",
    "  )\n",
    "print(data)\n",
    "\n",
    "## create scalar\n",
    "data <-\n",
    "  createScalar(\"sample_wr\",\n",
    "               \"sample_precision_scalar\",\n",
    "               \"PRECISION\",\n",
    "               \"test desc of scalar for sample\")\n",
    "print(data)\n",
    "\n",
    "## check if scalar is created\n",
    "data <-\n",
    "  FAMEData(\n",
    "    \"wildlist(sample_wr, \\\"sample_precision_scalar\\\")\",\n",
    "    \"1\",\n",
    "    \"\",\n",
    "    1,\n",
    "    \"CASE\",\n",
    "    \"down\",\n",
    "    \"heading\",\n",
    "    \"normal\"\n",
    "  )\n",
    "print(data)\n",
    "\n",
    "## check scalar type\n",
    "data <-\n",
    "  FAMEData(\"type(sample_precision_scalar)\",\n",
    "           \"1\",\n",
    "           \"\",\n",
    "           1,\n",
    "           \"CASE\",\n",
    "           \"down\",\n",
    "           \"heading\",\n",
    "           \"normal\")\n",
    "print(data)\n",
    "\n",
    "dat <- c(123456.7891)\n",
    "\n",
    "## update scalar\n",
    "data <- updateScalar(\"sample_wr\", \"sample_precision_scalar\", dat)\n",
    "print(data)\n",
    "\n",
    "## get scalar data\n",
    "data <-\n",
    "  FAMEData(\"sample_precision_scalar\",\n",
    "           \"1\",\n",
    "           \"\",\n",
    "           1,\n",
    "           \"CASE\",\n",
    "           \"down\",\n",
    "           \"heading\",\n",
    "           \"normal\")\n",
    "print(data)\n",
    "\n",
    "## get database file handle\n",
    "dbfile <-\n",
    "  FAMEData(\"filespec(sample_wr)\",\n",
    "           \"*\",\n",
    "           \"*\",\n",
    "           0,\n",
    "           \"case\",\n",
    "           \"down\",\n",
    "           \"heading\",\n",
    "           \"normal\")\n",
    "dbfile <- dbfile$`filespec(sample_wr)`\n",
    "\n",
    "## close database\n",
    "data <-\n",
    "  FAMEData(\n",
    "    \"* close sample_wr --shared access\",\n",
    "    \"2015\",\n",
    "    \"2015\",\n",
    "    0,\n",
    "    \"monthly\",\n",
    "    \"down\",\n",
    "    \"heading\",\n",
    "    \"normal\"\n",
    "  )\n",
    "\n",
    "## remove database file\n",
    "file.remove(dbfile)"
   ]
  },
  {
   "cell_type": "code",
   "execution_count": null,
   "id": "9c1ca8f6-ab8b-4f3b-9a6c-351c2780b6b9",
   "metadata": {},
   "outputs": [],
   "source": []
  }
 ],
 "metadata": {
  "kernelspec": {
   "display_name": "R",
   "language": "R",
   "name": "ir"
  },
  "language_info": {
   "codemirror_mode": "r",
   "file_extension": ".r",
   "mimetype": "text/x-r-source",
   "name": "R",
   "pygments_lexer": "r",
   "version": "4.1.3"
  }
 },
 "nbformat": 4,
 "nbformat_minor": 5
}
