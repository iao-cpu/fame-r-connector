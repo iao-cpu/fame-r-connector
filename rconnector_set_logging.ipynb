{
 "cells": [
  {
   "cell_type": "code",
   "execution_count": 1,
   "id": "758d94c1-7d45-489c-9bf7-ec0092643f1a",
   "metadata": {},
   "outputs": [
    {
     "name": "stdout",
     "output_type": "stream",
     "text": [
      "  chr(126)\n",
      "1        ~\n"
     ]
    }
   ],
   "source": [
    "################################################################################\n",
    "# This program demonstrates how to enable logging\n",
    "# \"chli_log_path\" provide file name with path; without path it assumes\n",
    "#  current working directory\n",
    "#\n",
    "# Logging enabled when \"chli_log_enable\" is set to True\n",
    "# Logging disabled when \"chli_log_enable\" is set to False\n",
    "\n",
    "# Always set \"chli_log_enable\" after \"chli_log_path\" is set\n",
    "################################################################################\n",
    "\n",
    "library(FameRconnector)\n",
    "\n",
    "FAMESetProperty(\"chli_log_path\", \"generic_connector.log\")\n",
    "FAMESetProperty(\"chli_log_enable\", \"True\")\n",
    "\n",
    "data <- FAMEData(\"chr(126)\", \"0\", \"0\", 0, \"BUSINESS\", \"down\", \"Heading\", \"normal\")\n",
    "print(data)\n"
   ]
  },
  {
   "cell_type": "code",
   "execution_count": null,
   "id": "7b1f5436-4955-4143-b90a-7e992051b73b",
   "metadata": {},
   "outputs": [],
   "source": []
  },
  {
   "cell_type": "code",
   "execution_count": null,
   "id": "41c3196f-f1aa-4485-936f-59cfa17c3458",
   "metadata": {},
   "outputs": [],
   "source": []
  }
 ],
 "metadata": {
  "kernelspec": {
   "display_name": "R",
   "language": "R",
   "name": "ir"
  },
  "language_info": {
   "codemirror_mode": "r",
   "file_extension": ".r",
   "mimetype": "text/x-r-source",
   "name": "R",
   "pygments_lexer": "r",
   "version": "4.1.3"
  }
 },
 "nbformat": 4,
 "nbformat_minor": 5
}
